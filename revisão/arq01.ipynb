{
 "cells": [
  {
   "cell_type": "markdown",
   "metadata": {},
   "source": [
    "## Laço de repetição: For e While"
   ]
  },
  {
   "cell_type": "code",
   "execution_count": 1,
   "metadata": {},
   "outputs": [
    {
     "name": "stdout",
     "output_type": "stream",
     "text": [
      "Email enviado para o cliente Ana\n",
      "Email enviado para o cliente Jonas\n",
      "Email enviado para o cliente Felipe\n",
      "Email enviado para o cliente Luiz\n",
      "Email enviado para o cliente Luzia\n"
     ]
    }
   ],
   "source": [
    "def envia_email(cliente):\n",
    "    print(f'Email enviado para o cliente {cliente}')\n",
    "\n",
    "clientes = ['Ana', 'Jonas', 'Felipe', 'Luiz', 'Luzia'] # Lista\n",
    "\n",
    "for cliente in clientes:\n",
    "    envia_email(cliente)"
   ]
  },
  {
   "cell_type": "code",
   "execution_count": 6,
   "metadata": {},
   "outputs": [
    {
     "name": "stdout",
     "output_type": "stream",
     "text": [
      "Email enviado para o cliente Ana\n",
      "Email enviado para o cliente Jonas\n"
     ]
    }
   ],
   "source": [
    "def envia_email(cliente):\n",
    "    print(f'Email enviado para o cliente {cliente}')\n",
    "\n",
    "clientes = ['Ana', 'Jonas', 'Felipe', 'Luiz', 'Luzia']\n",
    "\n",
    "# enumerate conta os elementos\n",
    "for i, cliente in enumerate(clientes):\n",
    "    if i == 2:\n",
    "        break # Quebra o laço\n",
    "    envia_email(cliente)"
   ]
  },
  {
   "cell_type": "code",
   "execution_count": 7,
   "metadata": {},
   "outputs": [
    {
     "name": "stdout",
     "output_type": "stream",
     "text": [
      "Email enviado para o cliente Ana\n",
      "Email enviado para o cliente Jonas\n",
      "Email enviado para o cliente Luiz\n",
      "Email enviado para o cliente Luzia\n"
     ]
    }
   ],
   "source": [
    "def envia_email(cliente):\n",
    "    print(f'Email enviado para o cliente {cliente}')\n",
    "\n",
    "clientes = ['Ana', 'Jonas', 'Felipe', 'Luiz', 'Luzia']\n",
    "\n",
    "for i, cliente in enumerate(clientes):\n",
    "    if i == 2:\n",
    "        continue # Pula o segundo elemento\n",
    "    envia_email(cliente)"
   ]
  },
  {
   "cell_type": "code",
   "execution_count": 5,
   "metadata": {},
   "outputs": [
    {
     "name": "stdout",
     "output_type": "stream",
     "text": [
      "Email enviado para o cliente Ana\n",
      "Email enviado para o cliente Jonas\n",
      "Email enviado para o cliente Felipe\n",
      "Email enviado para o cliente Luiz\n",
      "Email enviado para o cliente Luzia\n"
     ]
    }
   ],
   "source": [
    "def envia_email(cliente):\n",
    "    print(f'Email enviado para o cliente {cliente}')\n",
    "\n",
    "clientes = ['Ana', 'Jonas', 'Felipe', 'Luiz', 'Luzia']\n",
    "\n",
    "i = 0\n",
    "\n",
    "while i < len(clientes):\n",
    "    envia_email(clientes[i])\n",
    "    i += 1"
   ]
  },
  {
   "cell_type": "markdown",
   "metadata": {},
   "source": [
    "## Listas"
   ]
  },
  {
   "cell_type": "code",
   "execution_count": 14,
   "metadata": {},
   "outputs": [
    {
     "name": "stdout",
     "output_type": "stream",
     "text": [
      "Lista inteira: ['Maria', 'Luiza', 'João']\n",
      "Maria\n",
      "['Luiza', 'João']\n"
     ]
    }
   ],
   "source": [
    "lista = []\n",
    "\n",
    "nomes = 'Maria', 'Luiza', 'João' \n",
    "\n",
    "for nome in nomes:\n",
    "    lista.append(nome) # Adiciona valores\n",
    "\n",
    "print('Lista inteira:', lista)\n",
    "\n",
    "print(lista.pop(0)) # Apaga o primeiro nome\n",
    "\n",
    "print(lista)\n"
   ]
  },
  {
   "cell_type": "markdown",
   "metadata": {},
   "source": [
    "## Dicionários"
   ]
  },
  {
   "cell_type": "code",
   "execution_count": 18,
   "metadata": {},
   "outputs": [
    {
     "data": {
      "text/plain": [
       "'Luiz'"
      ]
     },
     "execution_count": 18,
     "metadata": {},
     "output_type": "execute_result"
    }
   ],
   "source": [
    "meu_dicio = {'nome': 'Luiz', 'idade': 20, 'profissao': 'Dev RPA'}\n",
    "\n",
    "meu_dicio # Retorna todos os dados\n",
    "\n",
    "meu_dicio['nome'] # Retorna apenas o dado da chave nome"
   ]
  },
  {
   "cell_type": "code",
   "execution_count": 20,
   "metadata": {},
   "outputs": [
    {
     "data": {
      "text/plain": [
       "'Dev RPA'"
      ]
     },
     "execution_count": 20,
     "metadata": {},
     "output_type": "execute_result"
    }
   ],
   "source": [
    "meu_dicio.get('profissao') # Pode ser chamado com o '.get'"
   ]
  },
  {
   "cell_type": "code",
   "execution_count": 21,
   "metadata": {},
   "outputs": [
    {
     "data": {
      "text/plain": [
       "20"
      ]
     },
     "execution_count": 21,
     "metadata": {},
     "output_type": "execute_result"
    }
   ],
   "source": [
    "meu_dicio.pop('idade') # Remove pela chave"
   ]
  },
  {
   "cell_type": "code",
   "execution_count": 22,
   "metadata": {},
   "outputs": [
    {
     "data": {
      "text/plain": [
       "{'nome': 'Luiz', 'profissao': 'Dev RPA'}"
      ]
     },
     "execution_count": 22,
     "metadata": {},
     "output_type": "execute_result"
    }
   ],
   "source": [
    "meu_dicio # Não possui mais a chave idade"
   ]
  },
  {
   "cell_type": "code",
   "execution_count": 23,
   "metadata": {},
   "outputs": [
    {
     "data": {
      "text/plain": [
       "dict_keys(['nome', 'profissao'])"
      ]
     },
     "execution_count": 23,
     "metadata": {},
     "output_type": "execute_result"
    }
   ],
   "source": [
    "meu_dicio.keys() # Devolve as chaves"
   ]
  },
  {
   "cell_type": "code",
   "execution_count": 24,
   "metadata": {},
   "outputs": [
    {
     "data": {
      "text/plain": [
       "dict_values(['Luiz', 'Dev RPA'])"
      ]
     },
     "execution_count": 24,
     "metadata": {},
     "output_type": "execute_result"
    }
   ],
   "source": [
    "meu_dicio.values() # Devolve os valores"
   ]
  },
  {
   "cell_type": "code",
   "execution_count": 25,
   "metadata": {},
   "outputs": [],
   "source": [
    "meu_dicio.clear() # Apaga todos os dados"
   ]
  },
  {
   "cell_type": "code",
   "execution_count": 29,
   "metadata": {},
   "outputs": [],
   "source": [
    "pessoa = {\n",
    "    'nome': 'Luiz',\n",
    "    'idade': 20,\n",
    "    'profissao': 'Dev',\n",
    "    'Interesses': ['Python', 'Programação', 'Carros'],\n",
    "    'Carros fav': {\n",
    "        'Nome': 'Porsche',\n",
    "        'Modelo': 911,\n",
    "        'HP': 700\n",
    "    }\n",
    "}"
   ]
  },
  {
   "cell_type": "code",
   "execution_count": 30,
   "metadata": {},
   "outputs": [
    {
     "data": {
      "text/plain": [
       "{'nome': 'Luiz',\n",
       " 'idade': 20,\n",
       " 'profissao': 'Dev',\n",
       " 'Interesses': ['Python', 'Programação', 'Carros'],\n",
       " 'Carros fav': {'Nome': 'Porsche', 'Modelo': 911, 'HP': 700}}"
      ]
     },
     "execution_count": 30,
     "metadata": {},
     "output_type": "execute_result"
    }
   ],
   "source": [
    "pessoa"
   ]
  },
  {
   "cell_type": "code",
   "execution_count": 31,
   "metadata": {},
   "outputs": [
    {
     "data": {
      "text/plain": [
       "'Luiz'"
      ]
     },
     "execution_count": 31,
     "metadata": {},
     "output_type": "execute_result"
    }
   ],
   "source": [
    "pessoa.get('nome')"
   ]
  },
  {
   "cell_type": "code",
   "execution_count": 32,
   "metadata": {},
   "outputs": [
    {
     "data": {
      "text/plain": [
       "['Python', 'Programação', 'Carros']"
      ]
     },
     "execution_count": 32,
     "metadata": {},
     "output_type": "execute_result"
    }
   ],
   "source": [
    "pessoa.get('Interesses')"
   ]
  },
  {
   "cell_type": "code",
   "execution_count": 33,
   "metadata": {},
   "outputs": [
    {
     "data": {
      "text/plain": [
       "'Python'"
      ]
     },
     "execution_count": 33,
     "metadata": {},
     "output_type": "execute_result"
    }
   ],
   "source": [
    "pessoa.get('Interesses')[0]"
   ]
  },
  {
   "cell_type": "code",
   "execution_count": 36,
   "metadata": {},
   "outputs": [
    {
     "data": {
      "text/plain": [
       "911"
      ]
     },
     "execution_count": 36,
     "metadata": {},
     "output_type": "execute_result"
    }
   ],
   "source": [
    "pessoa.get('Carros fav').get('Modelo')"
   ]
  },
  {
   "cell_type": "code",
   "execution_count": 37,
   "metadata": {},
   "outputs": [],
   "source": [
    "pessoa['ano_nacimento'] = 2003"
   ]
  },
  {
   "cell_type": "code",
   "execution_count": 38,
   "metadata": {},
   "outputs": [
    {
     "data": {
      "text/plain": [
       "{'nome': 'Luiz',\n",
       " 'idade': 20,\n",
       " 'profissao': 'Dev',\n",
       " 'Interesses': ['Python', 'Programação', 'Carros'],\n",
       " 'Carros fav': {'Nome': 'Porsche', 'Modelo': 911, 'HP': 700},\n",
       " 'ano_nacimento': 2003}"
      ]
     },
     "execution_count": 38,
     "metadata": {},
     "output_type": "execute_result"
    }
   ],
   "source": [
    "pessoa"
   ]
  }
 ],
 "metadata": {
  "kernelspec": {
   "display_name": "env",
   "language": "python",
   "name": "python3"
  },
  "language_info": {
   "codemirror_mode": {
    "name": "ipython",
    "version": 3
   },
   "file_extension": ".py",
   "mimetype": "text/x-python",
   "name": "python",
   "nbconvert_exporter": "python",
   "pygments_lexer": "ipython3",
   "version": "3.11.4"
  }
 },
 "nbformat": 4,
 "nbformat_minor": 2
}
