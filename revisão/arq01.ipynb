{
 "cells": [
  {
   "cell_type": "markdown",
   "metadata": {},
   "source": [
    "## Laço de repetição: For e While"
   ]
  },
  {
   "cell_type": "code",
   "execution_count": 1,
   "metadata": {},
   "outputs": [
    {
     "name": "stdout",
     "output_type": "stream",
     "text": [
      "Email enviado para o cliente Ana\n",
      "Email enviado para o cliente Jonas\n",
      "Email enviado para o cliente Felipe\n",
      "Email enviado para o cliente Luiz\n",
      "Email enviado para o cliente Luzia\n"
     ]
    }
   ],
   "source": [
    "def envia_email(cliente):\n",
    "    print(f'Email enviado para o cliente {cliente}')\n",
    "\n",
    "clientes = ['Ana', 'Jonas', 'Felipe', 'Luiz', 'Luzia'] # Lista\n",
    "\n",
    "for cliente in clientes:\n",
    "    envia_email(cliente)"
   ]
  },
  {
   "cell_type": "code",
   "execution_count": 2,
   "metadata": {},
   "outputs": [
    {
     "name": "stdout",
     "output_type": "stream",
     "text": [
      "Email enviado para o cliente Ana\n",
      "Email enviado para o cliente Jonas\n"
     ]
    }
   ],
   "source": [
    "def envia_email(cliente):\n",
    "    print(f'Email enviado para o cliente {cliente}')\n",
    "\n",
    "clientes = ['Ana', 'Jonas', 'Felipe', 'Luiz', 'Luzia']\n",
    "\n",
    "# enumerate conta os elementos\n",
    "for i, cliente in enumerate(clientes):\n",
    "    if i == 2:\n",
    "        break # Quebra o laço\n",
    "    envia_email(cliente)"
   ]
  },
  {
   "cell_type": "code",
   "execution_count": 3,
   "metadata": {},
   "outputs": [
    {
     "name": "stdout",
     "output_type": "stream",
     "text": [
      "Email enviado para o cliente Ana\n",
      "Email enviado para o cliente Jonas\n",
      "Email enviado para o cliente Luiz\n",
      "Email enviado para o cliente Luzia\n"
     ]
    }
   ],
   "source": [
    "def envia_email(cliente):\n",
    "    print(f'Email enviado para o cliente {cliente}')\n",
    "\n",
    "clientes = ['Ana', 'Jonas', 'Felipe', 'Luiz', 'Luzia']\n",
    "\n",
    "for i, cliente in enumerate(clientes):\n",
    "    if i == 2:\n",
    "        continue # Pula o segundo elemento\n",
    "    envia_email(cliente)"
   ]
  },
  {
   "cell_type": "code",
   "execution_count": 4,
   "metadata": {},
   "outputs": [
    {
     "name": "stdout",
     "output_type": "stream",
     "text": [
      "Email enviado para o cliente Ana\n",
      "Email enviado para o cliente Jonas\n",
      "Email enviado para o cliente Felipe\n",
      "Email enviado para o cliente Luiz\n",
      "Email enviado para o cliente Luzia\n"
     ]
    }
   ],
   "source": [
    "def envia_email(cliente):\n",
    "    print(f'Email enviado para o cliente {cliente}')\n",
    "\n",
    "clientes = ['Ana', 'Jonas', 'Felipe', 'Luiz', 'Luzia']\n",
    "\n",
    "i = 0\n",
    "\n",
    "while i < len(clientes):\n",
    "    envia_email(clientes[i])\n",
    "    i += 1"
   ]
  },
  {
   "cell_type": "markdown",
   "metadata": {},
   "source": [
    "## Listas"
   ]
  },
  {
   "cell_type": "code",
   "execution_count": 5,
   "metadata": {},
   "outputs": [
    {
     "name": "stdout",
     "output_type": "stream",
     "text": [
      "Lista inteira: ['Maria', 'Luiza', 'João']\n",
      "Maria\n",
      "['Luiza', 'João']\n"
     ]
    }
   ],
   "source": [
    "lista = []\n",
    "\n",
    "nomes = 'Maria', 'Luiza', 'João' \n",
    "\n",
    "for nome in nomes:\n",
    "    lista.append(nome) # Adiciona valores\n",
    "\n",
    "print('Lista inteira:', lista)\n",
    "\n",
    "print(lista.pop(0)) # Apaga o primeiro nome\n",
    "\n",
    "print(lista)\n"
   ]
  },
  {
   "cell_type": "markdown",
   "metadata": {},
   "source": [
    "## Dicionários"
   ]
  },
  {
   "cell_type": "code",
   "execution_count": 6,
   "metadata": {},
   "outputs": [
    {
     "data": {
      "text/plain": [
       "'Luiz'"
      ]
     },
     "execution_count": 6,
     "metadata": {},
     "output_type": "execute_result"
    }
   ],
   "source": [
    "meu_dicio = {'nome': 'Luiz', 'idade': 20, 'profissao': 'Dev RPA'}\n",
    "\n",
    "meu_dicio # Retorna todos os dados\n",
    "\n",
    "meu_dicio['nome'] # Retorna apenas o dado da chave nome"
   ]
  },
  {
   "cell_type": "code",
   "execution_count": 7,
   "metadata": {},
   "outputs": [
    {
     "data": {
      "text/plain": [
       "'Dev RPA'"
      ]
     },
     "execution_count": 7,
     "metadata": {},
     "output_type": "execute_result"
    }
   ],
   "source": [
    "meu_dicio.get('profissao') # Pode ser chamado com o '.get'"
   ]
  },
  {
   "cell_type": "code",
   "execution_count": 8,
   "metadata": {},
   "outputs": [
    {
     "data": {
      "text/plain": [
       "20"
      ]
     },
     "execution_count": 8,
     "metadata": {},
     "output_type": "execute_result"
    }
   ],
   "source": [
    "meu_dicio.pop('idade') # Remove pela chave"
   ]
  },
  {
   "cell_type": "code",
   "execution_count": 9,
   "metadata": {},
   "outputs": [
    {
     "data": {
      "text/plain": [
       "{'nome': 'Luiz', 'profissao': 'Dev RPA'}"
      ]
     },
     "execution_count": 9,
     "metadata": {},
     "output_type": "execute_result"
    }
   ],
   "source": [
    "meu_dicio # Não possui mais a chave idade"
   ]
  },
  {
   "cell_type": "code",
   "execution_count": 10,
   "metadata": {},
   "outputs": [
    {
     "data": {
      "text/plain": [
       "dict_keys(['nome', 'profissao'])"
      ]
     },
     "execution_count": 10,
     "metadata": {},
     "output_type": "execute_result"
    }
   ],
   "source": [
    "meu_dicio.keys() # Devolve as chaves"
   ]
  },
  {
   "cell_type": "code",
   "execution_count": 11,
   "metadata": {},
   "outputs": [
    {
     "data": {
      "text/plain": [
       "dict_values(['Luiz', 'Dev RPA'])"
      ]
     },
     "execution_count": 11,
     "metadata": {},
     "output_type": "execute_result"
    }
   ],
   "source": [
    "meu_dicio.values() # Devolve os valores"
   ]
  },
  {
   "cell_type": "code",
   "execution_count": 12,
   "metadata": {},
   "outputs": [],
   "source": [
    "meu_dicio.clear() # Apaga todos os dados"
   ]
  },
  {
   "cell_type": "code",
   "execution_count": 13,
   "metadata": {},
   "outputs": [],
   "source": [
    "pessoa = {\n",
    "    'nome': 'Luiz',\n",
    "    'idade': 20,\n",
    "    'profissao': 'Dev',\n",
    "    'Interesses': ['Python', 'Programação', 'Carros'],\n",
    "    'Carros fav': {\n",
    "        'Nome': 'Porsche',\n",
    "        'Modelo': 911,\n",
    "        'HP': 700\n",
    "    }\n",
    "}"
   ]
  },
  {
   "cell_type": "code",
   "execution_count": 14,
   "metadata": {},
   "outputs": [
    {
     "data": {
      "text/plain": [
       "{'nome': 'Luiz',\n",
       " 'idade': 20,\n",
       " 'profissao': 'Dev',\n",
       " 'Interesses': ['Python', 'Programação', 'Carros'],\n",
       " 'Carros fav': {'Nome': 'Porsche', 'Modelo': 911, 'HP': 700}}"
      ]
     },
     "execution_count": 14,
     "metadata": {},
     "output_type": "execute_result"
    }
   ],
   "source": [
    "pessoa"
   ]
  },
  {
   "cell_type": "code",
   "execution_count": 15,
   "metadata": {},
   "outputs": [
    {
     "data": {
      "text/plain": [
       "'Luiz'"
      ]
     },
     "execution_count": 15,
     "metadata": {},
     "output_type": "execute_result"
    }
   ],
   "source": [
    "pessoa.get('nome')"
   ]
  },
  {
   "cell_type": "code",
   "execution_count": 16,
   "metadata": {},
   "outputs": [
    {
     "data": {
      "text/plain": [
       "['Python', 'Programação', 'Carros']"
      ]
     },
     "execution_count": 16,
     "metadata": {},
     "output_type": "execute_result"
    }
   ],
   "source": [
    "pessoa.get('Interesses')"
   ]
  },
  {
   "cell_type": "code",
   "execution_count": 17,
   "metadata": {},
   "outputs": [
    {
     "data": {
      "text/plain": [
       "'Python'"
      ]
     },
     "execution_count": 17,
     "metadata": {},
     "output_type": "execute_result"
    }
   ],
   "source": [
    "pessoa.get('Interesses')[0]"
   ]
  },
  {
   "cell_type": "code",
   "execution_count": 18,
   "metadata": {},
   "outputs": [
    {
     "data": {
      "text/plain": [
       "911"
      ]
     },
     "execution_count": 18,
     "metadata": {},
     "output_type": "execute_result"
    }
   ],
   "source": [
    "pessoa.get('Carros fav').get('Modelo')"
   ]
  },
  {
   "cell_type": "code",
   "execution_count": 19,
   "metadata": {},
   "outputs": [],
   "source": [
    "pessoa['ano_nacimento'] = 2003"
   ]
  },
  {
   "cell_type": "code",
   "execution_count": 20,
   "metadata": {},
   "outputs": [
    {
     "data": {
      "text/plain": [
       "{'nome': 'Luiz',\n",
       " 'idade': 20,\n",
       " 'profissao': 'Dev',\n",
       " 'Interesses': ['Python', 'Programação', 'Carros'],\n",
       " 'Carros fav': {'Nome': 'Porsche', 'Modelo': 911, 'HP': 700},\n",
       " 'ano_nacimento': 2003}"
      ]
     },
     "execution_count": 20,
     "metadata": {},
     "output_type": "execute_result"
    }
   ],
   "source": [
    "pessoa"
   ]
  },
  {
   "cell_type": "markdown",
   "metadata": {},
   "source": [
    "## List Comprehension"
   ]
  },
  {
   "cell_type": "markdown",
   "metadata": {},
   "source": [
    "Sintax: [expr for item in list]\n",
    "Em outras palavras: aplique a expressão expr em cada item da lista"
   ]
  },
  {
   "cell_type": "code",
   "execution_count": 21,
   "metadata": {},
   "outputs": [
    {
     "name": "stdout",
     "output_type": "stream",
     "text": [
      "[2, 4, 6, 8, 10]\n"
     ]
    }
   ],
   "source": [
    "numeros = [1, 2, 3, 4, 5]\n",
    "\n",
    "numeros_dobrados = []\n",
    "\n",
    "for numero in numeros:\n",
    "    numeros_dobrados.append(numero * 2)\n",
    "\n",
    "print(numeros_dobrados)"
   ]
  },
  {
   "cell_type": "code",
   "execution_count": 23,
   "metadata": {},
   "outputs": [
    {
     "name": "stdout",
     "output_type": "stream",
     "text": [
      "[2, 4, 6, 8, 10]\n"
     ]
    }
   ],
   "source": [
    "numeros = [1, 2, 3, 4, 5]\n",
    "\n",
    "def dobro(numero):\n",
    "    return numero * 2\n",
    "\n",
    "numeros_dobrados = [dobro(numero) for numero in numeros]\n",
    "\n",
    "print(numeros_dobrados)"
   ]
  },
  {
   "cell_type": "code",
   "execution_count": 27,
   "metadata": {},
   "outputs": [
    {
     "name": "stdout",
     "output_type": "stream",
     "text": [
      "['ANA', 'LUIZ', 'MARIA', 'RATANASIO']\n"
     ]
    }
   ],
   "source": [
    "nomes = ['Ana', 'Luiz', 'Maria', 'Ratanasio']\n",
    "\n",
    "nomes_upercase = [nome.upper() for nome in nomes]\n",
    "\n",
    "print(nomes_upercase)"
   ]
  },
  {
   "cell_type": "markdown",
   "metadata": {},
   "source": [
    "Compressão de lista com condicional\n",
    "\n",
    "[expr for item in lista cond]\n",
    "Em outras palavras: Aplique a expressão expr em cada item da lista que atende a condição"
   ]
  },
  {
   "cell_type": "code",
   "execution_count": 29,
   "metadata": {},
   "outputs": [
    {
     "name": "stdout",
     "output_type": "stream",
     "text": [
      "['ANA']\n"
     ]
    }
   ],
   "source": [
    "nomes = ['Ana', 'Luiz', 'Maria', 'Ratanasio']\n",
    "\n",
    "nomes_upercase = [nome.upper() for nome in nomes if nome[0] == 'A']\n",
    "\n",
    "print(nomes_upercase)"
   ]
  },
  {
   "cell_type": "markdown",
   "metadata": {},
   "source": []
  }
 ],
 "metadata": {
  "kernelspec": {
   "display_name": "env",
   "language": "python",
   "name": "python3"
  },
  "language_info": {
   "codemirror_mode": {
    "name": "ipython",
    "version": 3
   },
   "file_extension": ".py",
   "mimetype": "text/x-python",
   "name": "python",
   "nbconvert_exporter": "python",
   "pygments_lexer": "ipython3",
   "version": "3.11.4"
  }
 },
 "nbformat": 4,
 "nbformat_minor": 2
}
